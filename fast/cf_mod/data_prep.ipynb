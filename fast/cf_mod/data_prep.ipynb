{
 "cells": [
  {
   "cell_type": "code",
   "execution_count": null,
   "metadata": {},
   "outputs": [
    {
     "evalue": "Error: Failed to connect to remote Jupyter notebook.\r\nCheck that the Jupyter Server URI setting has a valid running server specified.\r\nhttp://localhost:8080/tree/code/test/test_01\r\nError: Failed to connect to password protected server. Check that password is correct.",
     "output_type": "error"
    }
   ],
   "source": [
    "%matplotlib notebook\n",
    "\n",
    "import os, sys\n",
    "import multiprocessing as mp\n",
    "from functools import partial\n",
    "from os.path import join as pj\n",
    "\n",
    "ip_dir = \"/rdfs/fast/home/sunyingge/code/chenfeng\"\n",
    "sys.path.insert(0, ip_dir)\n",
    "from misc.data_tools import extract_slice_1ch\n",
    "from misc.utils import get_infos\n",
    "\n",
    "def get_slice_dataset(\n",
    "        root_dir=\"/rdfs/data/chenfeng/Lung/LungPneumonia/patients/train/healthy_datasets/\",\n",
    "        sub_dir=\"train/healthy_datasets\",\n",
    "        to_dir = \"/rdfs/data/chenfeng/Lung/LungPneumonia/slices_1ch\",\n",
    "        phase=\"others\",\n",
    "        link=\"-\",\n",
    "        pro_fn=None,\n",
    "        isprint=False\n",
    "        ):\n",
    "    info_paths = get_infos(root_dir, link=link)\n",
    "    target_dir = os.path.join(to_dir, sub_dir)\n",
    "    if not os.path.exists(target_dir): \n",
    "        os.makedirs(target_dir)\n",
    "        func_1 = partial(extract_slice_1ch,\n",
    "                        to_dir=to_dir, sub_dir=sub_dir,         \\\n",
    "                        min_ct_1ch=-1400, max_ct_1ch=800,             \\\n",
    "                        pro_fn=None,                             \\\n",
    "                        tofor=\"disease\", phase=phase, isprint=isprint)\n",
    "        pool = mp.Pool(8)\n",
    "        pool.map(func_1, info_paths)\n",
    "        pool.close()\n",
    "    else:\n",
    "        print(\"Already generated, skipped...\")"
   ]
  },
  {
   "cell_type": "code",
   "execution_count": null,
   "metadata": {},
   "outputs": [
    {
     "evalue": "Error: Failed to connect to remote Jupyter notebook.\r\nCheck that the Jupyter Server URI setting has a valid running server specified.\r\nhttp://localhost:8080/tree/code/test/test_01\r\nError: Failed to connect to password protected server. Check that password is correct.",
     "output_type": "error"
    }
   ],
   "source": [
    "for split in [\"Train/batch_0505/\", \"TestSet/\", \"Val/\"]:\n",
    "    for subset in [\"covid_pneu_datasets\", \"normal_pneu_datasets\", \"healthy_datasets\"]:\n",
    "        get_slice_dataset(\n",
    "                root_dir=\"/rdfs/fast/home/sunyingge/data/COV_19/0508/\"+ split + subset,\n",
    "                sub_dir=split + subset,\n",
    "                to_dir=\"/rdfs/fast/home/sunyingge/data/COV_19/prced_0512/\",\n",
    "                phase=\"others\",\n",
    "                link=\"-\",\n",
    "                pro_fn=None,\n",
    "                isprint=False\n",
    "                )"
   ]
  },
  {
   "cell_type": "code",
   "execution_count": null,
   "metadata": {},
   "outputs": [],
   "source": []
  }
 ],
 "metadata": {
  "kernelspec": {
   "display_name": "Python 3",
   "language": "python",
   "name": "python3"
  },
  "language_info": {
   "codemirror_mode": {
    "name": "ipython",
    "version": 3
   },
   "file_extension": ".py",
   "mimetype": "text/x-python",
   "name": "python",
   "nbconvert_exporter": "python",
   "pygments_lexer": "ipython3",
   "version": "3.6.4"
  }
 },
 "nbformat": 4,
 "nbformat_minor": 2
}