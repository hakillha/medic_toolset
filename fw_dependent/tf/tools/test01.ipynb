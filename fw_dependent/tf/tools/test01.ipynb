{
 "cells": [
  {
   "cell_type": "code",
   "execution_count": 1,
   "metadata": {},
   "outputs": [
    {
     "name": "stderr",
     "output_type": "stream",
     "text": [
      "Using TensorFlow backend.\n"
     ]
    },
    {
     "name": "stdout",
     "output_type": "stream",
     "text": [
      "all_picked: 316\n",
      "all_picked: 229\n",
      "WARNING:tensorflow:From ../../../fw_dependent/tf/model/tf_layers.py:103: The name tf.placeholder is deprecated. Please use tf.compat.v1.placeholder instead.\n",
      "\n",
      "WARNING:tensorflow:From ../../../fw_dependent/tf/model/ASEUNet.py:95: The name tf.variable_scope is deprecated. Please use tf.compat.v1.variable_scope instead.\n",
      "\n",
      "WARNING:tensorflow:From ../../../fw_dependent/tf/model/ASEUNet.py:37: average_pooling2d (from tensorflow.python.layers.pooling) is deprecated and will be removed in a future version.\n",
      "Instructions for updating:\n",
      "Use keras.layers.AveragePooling2D instead.\n",
      "WARNING:tensorflow:From ../../../fw_dependent/tf/model/ASEUNet.py:39: dense (from tensorflow.python.layers.core) is deprecated and will be removed in a future version.\n",
      "Instructions for updating:\n",
      "Use keras.layers.dense instead.\n",
      "WARNING:tensorflow:From /rdfs/fast/home/sunyingge/anaconda3/envs/tf14/lib/python3.6/site-packages/tensorflow/python/ops/init_ops.py:1251: calling VarianceScaling.__init__ (from tensorflow.python.ops.init_ops) with dtype is deprecated and will be removed in a future version.\n",
      "Instructions for updating:\n",
      "Call initializer instance with the dtype argument instead of passing it to the constructor\n",
      "WARNING:tensorflow:From ../../../fw_dependent/tf/model/ASEUNet.py:98: conv2d (from tensorflow.python.layers.convolutional) is deprecated and will be removed in a future version.\n",
      "Instructions for updating:\n",
      "Use `tf.keras.layers.Conv2D` instead.\n",
      "WARNING:tensorflow:From ../../../fw_dependent/tf/model/ASEUNet.py:4: The name tf.AUTO_REUSE is deprecated. Please use tf.compat.v1.AUTO_REUSE instead.\n",
      "\n",
      "WARNING:tensorflow:From ../../../fw_dependent/tf/model/ASEUNet.py:13: The name tf.get_variable is deprecated. Please use tf.compat.v1.get_variable instead.\n",
      "\n",
      "WARNING:tensorflow:From ../../../fw_dependent/tf/model/ASEUNet.py:77: conv2d_transpose (from tensorflow.python.layers.convolutional) is deprecated and will be removed in a future version.\n",
      "Instructions for updating:\n",
      "Use `tf.keras.layers.Conv2DTranspose` instead.\n",
      "WARNING:tensorflow:From /rdfs/fast/home/sunyingge/anaconda3/envs/tf14/lib/python3.6/site-packages/tensorflow/python/training/saver.py:1276: checkpoint_exists (from tensorflow.python.training.checkpoint_management) is deprecated and will be removed in a future version.\n",
      "Instructions for updating:\n",
      "Use standard file APIs to check for files with this prefix.\n",
      "INFO:tensorflow:Restoring parameters from /rdfs/fast/home/sunyingge/data/models/workdir_0522/SEResUNET_0528_1357_35/epoch_12.ckpt\n"
     ]
    },
    {
     "name": "stderr",
     "output_type": "stream",
     "text": [
      "  1%|▏         | 7/545 [00:31<58:42,  6.55s/it]"
     ]
    },
    {
     "name": "stdout",
     "output_type": "stream",
     "text": [
      "/rdfs/fast/home/sunyingge/data/COV_19/0508/TestSet/0519/covid_pneu_datasets/04f19095bc0a330ee5a56629316a0db5\n",
      "0.21222084635500146\n"
     ]
    },
    {
     "name": "stderr",
     "output_type": "stream",
     "text": [
      " 12%|█▏        | 65/545 [02:48<48:39,  6.08s/it]"
     ]
    },
    {
     "name": "stdout",
     "output_type": "stream",
     "text": [
      "/rdfs/fast/home/sunyingge/data/COV_19/0508/TestSet/0519/covid_pneu_datasets/4a5e37cfdebeaf5a1b198f864ec16e9f\n",
      "0.27072538875847896\n"
     ]
    },
    {
     "name": "stderr",
     "output_type": "stream",
     "text": [
      " 17%|█▋        | 90/545 [03:51<1:05:26,  8.63s/it]"
     ]
    },
    {
     "name": "stdout",
     "output_type": "stream",
     "text": [
      "/rdfs/fast/home/sunyingge/data/COV_19/0508/TestSet/0519/covid_pneu_datasets/66ec26708d9cb2f036d225b7465861b7\n",
      "0.2476027723110602\n"
     ]
    },
    {
     "name": "stderr",
     "output_type": "stream",
     "text": [
      " 22%|██▏       | 120/545 [04:50<32:39,  4.61s/it] "
     ]
    },
    {
     "name": "stdout",
     "output_type": "stream",
     "text": [
      "/rdfs/fast/home/sunyingge/data/COV_19/0508/TestSet/0519/covid_pneu_datasets/8f659d4ff5b93093db7df664002329b7\n",
      "0.10431792145504051\n"
     ]
    },
    {
     "name": "stderr",
     "output_type": "stream",
     "text": [
      " 24%|██▍       | 133/545 [06:58<3:45:52, 32.89s/it]"
     ]
    },
    {
     "name": "stdout",
     "output_type": "stream",
     "text": [
      "/rdfs/fast/home/sunyingge/data/COV_19/0508/TestSet/0519/covid_pneu_datasets/a659558c2209683aae971de96307f041\n",
      "0.040942093180770606\n"
     ]
    },
    {
     "name": "stderr",
     "output_type": "stream",
     "text": [
      "\r",
      " 25%|██▍       | 134/545 [08:28<5:42:24, 49.99s/it]"
     ]
    },
    {
     "name": "stdout",
     "output_type": "stream",
     "text": [
      "/rdfs/fast/home/sunyingge/data/COV_19/0508/TestSet/0519/covid_pneu_datasets/a6e93923bfeffb720535fb7c5e405387\n",
      "0.04653622447209513\n"
     ]
    },
    {
     "name": "stderr",
     "output_type": "stream",
     "text": [
      " 31%|███       | 168/545 [09:54<31:58,  5.09s/it]  "
     ]
    },
    {
     "name": "stdout",
     "output_type": "stream",
     "text": [
      "/rdfs/fast/home/sunyingge/data/COV_19/0508/TestSet/0519/covid_pneu_datasets/c769de08150fbf6f8007ed9ae563a89c\n",
      "0.030837905083469556\n"
     ]
    },
    {
     "name": "stderr",
     "output_type": "stream",
     "text": [
      " 38%|███▊      | 208/545 [11:23<50:46,  9.04s/it]"
     ]
    },
    {
     "name": "stdout",
     "output_type": "stream",
     "text": [
      "/rdfs/fast/home/sunyingge/data/COV_19/0508/TestSet/0519/covid_pneu_datasets/ef7acf17e5351008310a0bedf97a0205\n",
      "0.2589061717865263\n"
     ]
    },
    {
     "name": "stderr",
     "output_type": "stream",
     "text": [
      " 39%|███▉      | 215/545 [11:54<45:26,  8.26s/it]"
     ]
    },
    {
     "name": "stdout",
     "output_type": "stream",
     "text": [
      "/rdfs/fast/home/sunyingge/data/COV_19/0508/TestSet/0519/covid_pneu_datasets/f57702435b8644f598eb5898d5973bad\n",
      "0.22569339038979735\n"
     ]
    },
    {
     "name": "stderr",
     "output_type": "stream",
     "text": [
      " 42%|████▏     | 230/545 [12:49<50:38,  9.65s/it]"
     ]
    },
    {
     "name": "stdout",
     "output_type": "stream",
     "text": [
      "/rdfs/fast/home/sunyingge/data/COV_19/0508/TestSet/0519/normal_pneu_datasets/level0/hard/4a54fe2ec6ab560cb910cf4c87b81b80\n",
      "0.009226038437095829\n"
     ]
    },
    {
     "name": "stderr",
     "output_type": "stream",
     "text": [
      "\r",
      " 42%|████▏     | 231/545 [15:10<4:16:32, 49.02s/it]"
     ]
    },
    {
     "name": "stdout",
     "output_type": "stream",
     "text": [
      "/rdfs/fast/home/sunyingge/data/COV_19/0508/TestSet/0519/normal_pneu_datasets/level0/hard/c749ff9a436dbad7834be9ebdbed256d\n",
      "0.052849981772969165\n"
     ]
    },
    {
     "name": "stderr",
     "output_type": "stream",
     "text": [
      "\r",
      " 43%|████▎     | 232/545 [17:24<6:29:05, 74.58s/it]"
     ]
    },
    {
     "name": "stdout",
     "output_type": "stream",
     "text": [
      "/rdfs/fast/home/sunyingge/data/COV_19/0508/TestSet/0519/normal_pneu_datasets/level0/hard/cc4806556ff5427f40bf48afcd8380a4\n",
      "0.07754650952857127\n"
     ]
    },
    {
     "name": "stderr",
     "output_type": "stream",
     "text": [
      "\r",
      " 43%|████▎     | 233/545 [19:07<7:11:58, 83.07s/it]"
     ]
    },
    {
     "name": "stdout",
     "output_type": "stream",
     "text": [
      "/rdfs/fast/home/sunyingge/data/COV_19/0508/TestSet/0519/normal_pneu_datasets/level0/hard/d7ad07c75e34f1c4dd6a9aeff3045d29\n",
      "8.979078745714368e-11\n"
     ]
    },
    {
     "name": "stderr",
     "output_type": "stream",
     "text": [
      "\r",
      " 43%|████▎     | 234/545 [20:49<7:39:43, 88.69s/it]"
     ]
    },
    {
     "name": "stdout",
     "output_type": "stream",
     "text": [
      "/rdfs/fast/home/sunyingge/data/COV_19/0508/TestSet/0519/normal_pneu_datasets/level0/normal/04d3e62758a75c9ac7327c7036fc7207\n",
      "0.18333482826013292\n"
     ]
    },
    {
     "name": "stderr",
     "output_type": "stream",
     "text": [
      "\r",
      " 43%|████▎     | 235/545 [22:24<7:47:46, 90.54s/it]"
     ]
    },
    {
     "name": "stdout",
     "output_type": "stream",
     "text": [
      "/rdfs/fast/home/sunyingge/data/COV_19/0508/TestSet/0519/normal_pneu_datasets/level0/normal/0a81c6e17a4f77def5c1176837e9ae20\n",
      "0.19373818033233145\n"
     ]
    },
    {
     "name": "stderr",
     "output_type": "stream",
     "text": [
      "\r",
      " 43%|████▎     | 236/545 [24:01<7:56:49, 92.59s/it]"
     ]
    },
    {
     "name": "stdout",
     "output_type": "stream",
     "text": [
      "/rdfs/fast/home/sunyingge/data/COV_19/0508/TestSet/0519/normal_pneu_datasets/level0/normal/0e155306ff3906be3bc00137e44ad23e\n",
      "0.16223379561949985\n"
     ]
    },
    {
     "name": "stderr",
     "output_type": "stream",
     "text": [
      " 44%|████▎     | 238/545 [25:52<6:37:57, 77.78s/it]"
     ]
    },
    {
     "name": "stdout",
     "output_type": "stream",
     "text": [
      "/rdfs/fast/home/sunyingge/data/COV_19/0508/TestSet/0519/normal_pneu_datasets/level0/normal/1ae25b441061df6730ee4f7aec9dadb2\n",
      "0.23841995194870505\n"
     ]
    },
    {
     "name": "stderr",
     "output_type": "stream",
     "text": [
      "\r",
      " 44%|████▍     | 239/545 [28:22<8:26:01, 99.22s/it]"
     ]
    },
    {
     "name": "stdout",
     "output_type": "stream",
     "text": [
      "/rdfs/fast/home/sunyingge/data/COV_19/0508/TestSet/0519/normal_pneu_datasets/level0/normal/1f556867476ad0013d0671da91e2225f\n",
      "0.18459527240285606\n"
     ]
    },
    {
     "name": "stderr",
     "output_type": "stream",
     "text": [
      "\r",
      " 44%|████▍     | 240/545 [30:01<8:24:10, 99.18s/it]"
     ]
    },
    {
     "name": "stdout",
     "output_type": "stream",
     "text": [
      "/rdfs/fast/home/sunyingge/data/COV_19/0508/TestSet/0519/normal_pneu_datasets/level0/normal/25b32cc61c0f5767824cd88170e75d25\n",
      "0.1295677919245959\n"
     ]
    },
    {
     "name": "stderr",
     "output_type": "stream",
     "text": [
      "\r",
      " 44%|████▍     | 241/545 [30:27<6:32:28, 77.46s/it]"
     ]
    },
    {
     "name": "stdout",
     "output_type": "stream",
     "text": [
      "/rdfs/fast/home/sunyingge/data/COV_19/0508/TestSet/0519/normal_pneu_datasets/level0/normal/383baf4ae6802e7bc862fac5b68f5fbc\n",
      "0.09653132568590136\n"
     ]
    },
    {
     "name": "stderr",
     "output_type": "stream",
     "text": [
      "\r",
      " 44%|████▍     | 242/545 [33:00<8:25:32, 100.11s/it]"
     ]
    },
    {
     "name": "stdout",
     "output_type": "stream",
     "text": [
      "/rdfs/fast/home/sunyingge/data/COV_19/0508/TestSet/0519/normal_pneu_datasets/level0/normal/52650e5c1e1d6293cce5ffd716a40743\n",
      "0.10462126222169471\n"
     ]
    },
    {
     "name": "stderr",
     "output_type": "stream",
     "text": [
      "\r",
      " 45%|████▍     | 243/545 [33:30<6:36:42, 78.81s/it] "
     ]
    },
    {
     "name": "stdout",
     "output_type": "stream",
     "text": [
      "/rdfs/fast/home/sunyingge/data/COV_19/0508/TestSet/0519/normal_pneu_datasets/level0/normal/597f1033f3cb566180fc477a626483f2\n",
      "0.17007222963386068\n"
     ]
    },
    {
     "name": "stderr",
     "output_type": "stream",
     "text": [
      "\r",
      " 45%|████▍     | 244/545 [35:04<6:59:25, 83.61s/it]"
     ]
    },
    {
     "name": "stdout",
     "output_type": "stream",
     "text": [
      "/rdfs/fast/home/sunyingge/data/COV_19/0508/TestSet/0519/normal_pneu_datasets/level0/normal/65ad4ebd83dee51ea596d8c63a05b0fd\n",
      "0.10964101109168486\n"
     ]
    },
    {
     "name": "stderr",
     "output_type": "stream",
     "text": [
      "\r",
      " 45%|████▍     | 245/545 [36:53<7:35:20, 91.07s/it]"
     ]
    },
    {
     "name": "stdout",
     "output_type": "stream",
     "text": [
      "/rdfs/fast/home/sunyingge/data/COV_19/0508/TestSet/0519/normal_pneu_datasets/level0/normal/65df090bc94c9b141394aa27e78a73c9\n",
      "0.11363883758423438\n"
     ]
    },
    {
     "name": "stderr",
     "output_type": "stream",
     "text": [
      " 45%|████▌     | 247/545 [39:19<7:14:54, 87.57s/it]"
     ]
    },
    {
     "name": "stdout",
     "output_type": "stream",
     "text": [
      "/rdfs/fast/home/sunyingge/data/COV_19/0508/TestSet/0519/normal_pneu_datasets/level0/normal/69aa11e80e87a7e162264c7eba4aa9be\n",
      "0.16378009781161185\n"
     ]
    },
    {
     "name": "stderr",
     "output_type": "stream",
     "text": [
      "\r",
      " 46%|████▌     | 248/545 [40:35<6:56:20, 84.11s/it]"
     ]
    },
    {
     "name": "stdout",
     "output_type": "stream",
     "text": [
      "/rdfs/fast/home/sunyingge/data/COV_19/0508/TestSet/0519/normal_pneu_datasets/level0/normal/6a2e1f0d1f68c043808d63f788c60f5c\n",
      "0.285657281111164\n"
     ]
    },
    {
     "name": "stderr",
     "output_type": "stream",
     "text": [
      "\r",
      " 46%|████▌     | 249/545 [42:17<7:21:37, 89.52s/it]"
     ]
    },
    {
     "name": "stdout",
     "output_type": "stream",
     "text": [
      "/rdfs/fast/home/sunyingge/data/COV_19/0508/TestSet/0519/normal_pneu_datasets/level0/normal/6a9e02d7c607c3e4bd870522249ea6d6\n",
      "0.0928683386468585\n"
     ]
    },
    {
     "name": "stderr",
     "output_type": "stream",
     "text": [
      "\r",
      " 46%|████▌     | 250/545 [44:56<9:02:29, 110.34s/it]"
     ]
    },
    {
     "name": "stdout",
     "output_type": "stream",
     "text": [
      "/rdfs/fast/home/sunyingge/data/COV_19/0508/TestSet/0519/normal_pneu_datasets/level0/normal/6e798d5d1d7970cb3f810fcdeaea6863\n",
      "0.2155572038190452\n"
     ]
    },
    {
     "name": "stderr",
     "output_type": "stream",
     "text": [
      "\r",
      " 46%|████▌     | 251/545 [46:56<9:14:51, 113.24s/it]"
     ]
    },
    {
     "name": "stdout",
     "output_type": "stream",
     "text": [
      "/rdfs/fast/home/sunyingge/data/COV_19/0508/TestSet/0519/normal_pneu_datasets/level0/normal/7d3f6bc881bd55e59f5253738aab7db2\n",
      "0.14597565766996562\n"
     ]
    },
    {
     "name": "stderr",
     "output_type": "stream",
     "text": [
      "\r",
      " 46%|████▌     | 252/545 [48:39<8:57:30, 110.07s/it]"
     ]
    },
    {
     "name": "stdout",
     "output_type": "stream",
     "text": [
      "/rdfs/fast/home/sunyingge/data/COV_19/0508/TestSet/0519/normal_pneu_datasets/level0/normal/81c7bbdb7b522236ca9f756293487c1c\n",
      "0.17666532101924382\n"
     ]
    },
    {
     "name": "stderr",
     "output_type": "stream",
     "text": [
      "\r",
      " 46%|████▋     | 253/545 [50:21<8:45:15, 107.93s/it]"
     ]
    },
    {
     "name": "stdout",
     "output_type": "stream",
     "text": [
      "/rdfs/fast/home/sunyingge/data/COV_19/0508/TestSet/0519/normal_pneu_datasets/level0/normal/81c959494709af329dbb0fb2a3f55f6c\n",
      "0.22554078946544368\n"
     ]
    },
    {
     "name": "stderr",
     "output_type": "stream",
     "text": [
      " 47%|████▋     | 255/545 [52:24<7:08:42, 88.70s/it] "
     ]
    },
    {
     "name": "stdout",
     "output_type": "stream",
     "text": [
      "/rdfs/fast/home/sunyingge/data/COV_19/0508/TestSet/0519/normal_pneu_datasets/level0/normal/84b480adfee21ac05f4f07ac80a04a84\n",
      "0.059630996379363026\n"
     ]
    },
    {
     "name": "stderr",
     "output_type": "stream",
     "text": [
      "\r",
      " 47%|████▋     | 256/545 [55:14<9:05:27, 113.24s/it]"
     ]
    },
    {
     "name": "stdout",
     "output_type": "stream",
     "text": [
      "/rdfs/fast/home/sunyingge/data/COV_19/0508/TestSet/0519/normal_pneu_datasets/level0/normal/934f3c1701b956c7e8461f69f61d6dc9\n",
      "0.2675489946737707\n"
     ]
    },
    {
     "name": "stderr",
     "output_type": "stream",
     "text": [
      "\r",
      " 47%|████▋     | 257/545 [57:11<9:09:06, 114.40s/it]"
     ]
    },
    {
     "name": "stdout",
     "output_type": "stream",
     "text": [
      "/rdfs/fast/home/sunyingge/data/COV_19/0508/TestSet/0519/normal_pneu_datasets/level0/normal/95c60e6343bccae0b4984d84051161db\n",
      "0.132017273326341\n"
     ]
    },
    {
     "name": "stderr",
     "output_type": "stream",
     "text": [
      "\r",
      " 47%|████▋     | 258/545 [57:44<7:10:14, 89.95s/it] "
     ]
    },
    {
     "name": "stdout",
     "output_type": "stream",
     "text": [
      "/rdfs/fast/home/sunyingge/data/COV_19/0508/TestSet/0519/normal_pneu_datasets/level0/normal/a7f04226ba983a8db26911b7780e9b09\n",
      "0.07585320455969294\n"
     ]
    },
    {
     "name": "stderr",
     "output_type": "stream",
     "text": [
      "\r",
      " 48%|████▊     | 259/545 [1:00:10<8:29:20, 106.86s/it]"
     ]
    },
    {
     "name": "stdout",
     "output_type": "stream",
     "text": [
      "/rdfs/fast/home/sunyingge/data/COV_19/0508/TestSet/0519/normal_pneu_datasets/level0/normal/af8013f3e1ea4481ba55d22f4edc9729\n",
      "0.10050445011404734\n"
     ]
    },
    {
     "name": "stderr",
     "output_type": "stream",
     "text": [
      " 48%|████▊     | 261/545 [1:03:06<8:16:42, 104.94s/it]"
     ]
    },
    {
     "name": "stdout",
     "output_type": "stream",
     "text": [
      "/rdfs/fast/home/sunyingge/data/COV_19/0508/TestSet/0519/normal_pneu_datasets/level0/normal/ba46ac89412bad86d1faa6898b0691a5\n",
      "0.2635891111564101\n"
     ]
    },
    {
     "name": "stderr",
     "output_type": "stream",
     "text": [
      "\r",
      " 48%|████▊     | 262/545 [1:05:03<8:31:36, 108.47s/it]"
     ]
    },
    {
     "name": "stdout",
     "output_type": "stream",
     "text": [
      "/rdfs/fast/home/sunyingge/data/COV_19/0508/TestSet/0519/normal_pneu_datasets/level0/normal/c5f6b9082b71d9b60ee8705f47d29259\n",
      "0.1748406186964696\n"
     ]
    },
    {
     "name": "stderr",
     "output_type": "stream",
     "text": [
      " 48%|████▊     | 264/545 [1:07:04<6:53:37, 88.32s/it] "
     ]
    },
    {
     "name": "stdout",
     "output_type": "stream",
     "text": [
      "/rdfs/fast/home/sunyingge/data/COV_19/0508/TestSet/0519/normal_pneu_datasets/level0/normal/ca0ec04967d0c562669dc93b108ca438\n",
      "0.12139209338462925\n"
     ]
    },
    {
     "name": "stderr",
     "output_type": "stream",
     "text": [
      "\r",
      " 49%|████▊     | 265/545 [1:09:07<7:39:26, 98.45s/it]"
     ]
    },
    {
     "name": "stdout",
     "output_type": "stream",
     "text": [
      "/rdfs/fast/home/sunyingge/data/COV_19/0508/TestSet/0519/normal_pneu_datasets/level0/normal/d2abdd853c3fc390b300ae4c45883153\n",
      "0.1298824848206303\n"
     ]
    },
    {
     "name": "stderr",
     "output_type": "stream",
     "text": [
      "\r",
      " 49%|████▉     | 266/545 [1:11:30<8:39:55, 111.81s/it]"
     ]
    },
    {
     "name": "stdout",
     "output_type": "stream",
     "text": [
      "/rdfs/fast/home/sunyingge/data/COV_19/0508/TestSet/0519/normal_pneu_datasets/level0/normal/d5abeb0228db2ac64b6f2bf0bfc085fd\n",
      "0.2872796676851097\n"
     ]
    },
    {
     "name": "stderr",
     "output_type": "stream",
     "text": [
      "\r",
      " 49%|████▉     | 267/545 [1:14:57<10:50:50, 140.47s/it]"
     ]
    },
    {
     "name": "stdout",
     "output_type": "stream",
     "text": [
      "/rdfs/fast/home/sunyingge/data/COV_19/0508/TestSet/0519/normal_pneu_datasets/level0/normal/d8b42e02edb824a6fe08d4926a467608\n",
      "0.08024133770356752\n"
     ]
    },
    {
     "name": "stderr",
     "output_type": "stream",
     "text": [
      "\r",
      " 49%|████▉     | 268/545 [1:16:48<10:08:35, 131.83s/it]"
     ]
    },
    {
     "name": "stdout",
     "output_type": "stream",
     "text": [
      "/rdfs/fast/home/sunyingge/data/COV_19/0508/TestSet/0519/normal_pneu_datasets/level0/normal/dd7ec4ceeea22c5e65a216410dcf7242\n",
      "0.09043690808175797\n"
     ]
    },
    {
     "name": "stderr",
     "output_type": "stream",
     "text": [
      "\r",
      " 49%|████▉     | 269/545 [1:18:49<9:51:00, 128.48s/it] "
     ]
    },
    {
     "name": "stdout",
     "output_type": "stream",
     "text": [
      "/rdfs/fast/home/sunyingge/data/COV_19/0508/TestSet/0519/normal_pneu_datasets/level0/normal/e1551423f2315262335db121cd4c7756\n",
      "0.16839770382351224\n"
     ]
    },
    {
     "name": "stderr",
     "output_type": "stream",
     "text": [
      "\r",
      " 50%|████▉     | 270/545 [1:20:37<9:20:55, 122.38s/it]"
     ]
    },
    {
     "name": "stdout",
     "output_type": "stream",
     "text": [
      "/rdfs/fast/home/sunyingge/data/COV_19/0508/TestSet/0519/normal_pneu_datasets/level0/normal/e204f30d6021e9d48160c67d02618d9e\n",
      "0.2907051799400778\n"
     ]
    },
    {
     "name": "stderr",
     "output_type": "stream",
     "text": [
      "\r",
      " 50%|████▉     | 271/545 [1:23:25<10:20:22, 135.85s/it]"
     ]
    },
    {
     "name": "stdout",
     "output_type": "stream",
     "text": [
      "/rdfs/fast/home/sunyingge/data/COV_19/0508/TestSet/0519/normal_pneu_datasets/level0/normal/e8b06a8de1b29b5bcce87febd9e74cca\n",
      "0.19625426829937384\n"
     ]
    },
    {
     "name": "stderr",
     "output_type": "stream",
     "text": [
      "\r",
      " 50%|████▉     | 272/545 [1:25:55<10:38:13, 140.27s/it]"
     ]
    },
    {
     "name": "stdout",
     "output_type": "stream",
     "text": [
      "/rdfs/fast/home/sunyingge/data/COV_19/0508/TestSet/0519/normal_pneu_datasets/level0/normal/ea8ee21d300d584b4fafca7488970de8\n",
      "0.04651812533887972\n"
     ]
    },
    {
     "name": "stderr",
     "output_type": "stream",
     "text": [
      "\r",
      " 50%|█████     | 273/545 [1:29:25<12:10:50, 161.22s/it]"
     ]
    },
    {
     "name": "stdout",
     "output_type": "stream",
     "text": [
      "/rdfs/fast/home/sunyingge/data/COV_19/0508/TestSet/0519/normal_pneu_datasets/level0/normal/ef8be82beb29afac0702a9f9be23b72f\n",
      "0.11563388823072532\n"
     ]
    },
    {
     "name": "stderr",
     "output_type": "stream",
     "text": [
      " 50%|█████     | 275/545 [1:31:57<9:14:32, 123.23s/it] "
     ]
    },
    {
     "name": "stdout",
     "output_type": "stream",
     "text": [
      "/rdfs/fast/home/sunyingge/data/COV_19/0508/TestSet/0519/normal_pneu_datasets/level0/normal/fe97109bbaf4dab5d9ea3ec1a2354683\n",
      "0.19183212944213035\n"
     ]
    },
    {
     "name": "stderr",
     "output_type": "stream",
     "text": [
      "\r",
      " 51%|█████     | 276/545 [1:34:59<10:32:01, 140.97s/it]"
     ]
    },
    {
     "name": "stdout",
     "output_type": "stream",
     "text": [
      "/rdfs/fast/home/sunyingge/data/COV_19/0508/TestSet/0519/normal_pneu_datasets/level1/hard/261575861e91a969dc19629d975c8fbd\n",
      "0.29021092486261707\n"
     ]
    },
    {
     "name": "stderr",
     "output_type": "stream",
     "text": [
      "\r",
      " 51%|█████     | 277/545 [1:37:42<10:58:49, 147.50s/it]"
     ]
    },
    {
     "name": "stdout",
     "output_type": "stream",
     "text": [
      "/rdfs/fast/home/sunyingge/data/COV_19/0508/TestSet/0519/normal_pneu_datasets/level1/hard/6e3d9d854a808857124d6e8c49302885\n",
      "0.10992487156109729\n"
     ]
    },
    {
     "name": "stderr",
     "output_type": "stream",
     "text": [
      " 53%|█████▎    | 287/545 [1:41:21<3:20:04, 46.53s/it]  "
     ]
    },
    {
     "name": "stdout",
     "output_type": "stream",
     "text": [
      "/rdfs/fast/home/sunyingge/data/COV_19/0508/TestSet/0519/normal_pneu_datasets/level1/normal/0d6c280311621b01ee0212c96e6d67f9\n",
      "0.12242384747183081\n"
     ]
    },
    {
     "name": "stderr",
     "output_type": "stream",
     "text": [
      " 53%|█████▎    | 289/545 [1:43:18<4:03:16, 57.02s/it]"
     ]
    },
    {
     "name": "stdout",
     "output_type": "stream",
     "text": [
      "/rdfs/fast/home/sunyingge/data/COV_19/0508/TestSet/0519/normal_pneu_datasets/level1/normal/0e2c455081ea386d12cb7750e8358481\n",
      "0.20919423868164402\n"
     ]
    },
    {
     "name": "stderr",
     "output_type": "stream",
     "text": [
      " 55%|█████▍    | 299/545 [1:45:10<1:14:41, 18.22s/it]"
     ]
    },
    {
     "name": "stdout",
     "output_type": "stream",
     "text": [
      "/rdfs/fast/home/sunyingge/data/COV_19/0508/TestSet/0519/normal_pneu_datasets/level1/normal/1b9b073198f990e2b388225ed46d2781\n",
      "0.051174202649189496\n"
     ]
    },
    {
     "name": "stderr",
     "output_type": "stream",
     "text": [
      " 56%|█████▌    | 305/545 [1:48:16<3:18:25, 49.61s/it]"
     ]
    },
    {
     "name": "stdout",
     "output_type": "stream",
     "text": [
      "/rdfs/fast/home/sunyingge/data/COV_19/0508/TestSet/0519/normal_pneu_datasets/level1/normal/22d5058a8545b2c9011a0b9be7dc8609\n",
      "0.2411130294976401\n"
     ]
    },
    {
     "name": "stderr",
     "output_type": "stream",
     "text": [
      " 57%|█████▋    | 309/545 [1:50:44<3:24:16, 51.94s/it]"
     ]
    },
    {
     "name": "stdout",
     "output_type": "stream",
     "text": [
      "/rdfs/fast/home/sunyingge/data/COV_19/0508/TestSet/0519/normal_pneu_datasets/level1/normal/268d7ed424a1d3a3b316201f9315be68\n",
      "0.19354419974917694\n"
     ]
    },
    {
     "name": "stderr",
     "output_type": "stream",
     "text": [
      "\r",
      " 57%|█████▋    | 310/545 [1:52:42<4:41:16, 71.82s/it]"
     ]
    },
    {
     "name": "stdout",
     "output_type": "stream",
     "text": [
      "/rdfs/fast/home/sunyingge/data/COV_19/0508/TestSet/0519/normal_pneu_datasets/level1/normal/28f703ab9d4825fd2d041bef2e4162f2\n",
      "0.1799612578538376\n"
     ]
    },
    {
     "name": "stderr",
     "output_type": "stream",
     "text": [
      " 58%|█████▊    | 318/545 [1:56:44<3:50:21, 60.89s/it]"
     ]
    },
    {
     "name": "stdout",
     "output_type": "stream",
     "text": [
      "/rdfs/fast/home/sunyingge/data/COV_19/0508/TestSet/0519/normal_pneu_datasets/level1/normal/31ad1bbe0925b69d09542da1a3e78db4\n",
      "0.27843151356389084\n"
     ]
    },
    {
     "name": "stderr",
     "output_type": "stream",
     "text": [
      " 59%|█████▉    | 322/545 [2:00:02<4:20:47, 70.17s/it]"
     ]
    },
    {
     "name": "stdout",
     "output_type": "stream",
     "text": [
      "/rdfs/fast/home/sunyingge/data/COV_19/0508/TestSet/0519/normal_pneu_datasets/level1/normal/373214bc187e25cbfc3fa2bd525c9e4c\n",
      "0.1777437948960273\n"
     ]
    },
    {
     "name": "stderr",
     "output_type": "stream",
     "text": [
      " 59%|█████▉    | 324/545 [2:03:09<5:28:53, 89.29s/it]"
     ]
    },
    {
     "name": "stdout",
     "output_type": "stream",
     "text": [
      "/rdfs/fast/home/sunyingge/data/COV_19/0508/TestSet/0519/normal_pneu_datasets/level1/normal/3889e02d940bd330bbe277382e7fb004\n",
      "0.28903726040376687\n"
     ]
    },
    {
     "name": "stderr",
     "output_type": "stream",
     "text": [
      " 60%|█████▉    | 326/545 [2:05:41<5:22:19, 88.31s/it]"
     ]
    },
    {
     "name": "stdout",
     "output_type": "stream",
     "text": [
      "/rdfs/fast/home/sunyingge/data/COV_19/0508/TestSet/0519/normal_pneu_datasets/level1/normal/3bf9bcb84695c4c9e37b77860dc4b437\n",
      "0.2276021764869449\n"
     ]
    },
    {
     "name": "stderr",
     "output_type": "stream",
     "text": [
      " 61%|██████    | 332/545 [2:08:27<3:04:52, 52.08s/it]"
     ]
    },
    {
     "name": "stdout",
     "output_type": "stream",
     "text": [
      "/rdfs/fast/home/sunyingge/data/COV_19/0508/TestSet/0519/normal_pneu_datasets/level1/normal/42881077a4791090ce4d184e19819213\n",
      "0.25357673649503054\n"
     ]
    },
    {
     "name": "stderr",
     "output_type": "stream",
     "text": [
      "\r",
      " 61%|██████    | 333/545 [2:10:33<4:21:46, 74.09s/it]"
     ]
    },
    {
     "name": "stdout",
     "output_type": "stream",
     "text": [
      "/rdfs/fast/home/sunyingge/data/COV_19/0508/TestSet/0519/normal_pneu_datasets/level1/normal/42b36a86e75043aeddadd9f1d8544460\n",
      "0.144538088851641\n"
     ]
    },
    {
     "name": "stderr",
     "output_type": "stream",
     "text": [
      " 62%|██████▏   | 338/545 [2:11:50<1:40:46, 29.21s/it]"
     ]
    },
    {
     "name": "stdout",
     "output_type": "stream",
     "text": [
      "/rdfs/fast/home/sunyingge/data/COV_19/0508/TestSet/0519/normal_pneu_datasets/level1/normal/46687b01a2b2db2d33d421c98b067952\n",
      "0.23206368883862977\n"
     ]
    },
    {
     "name": "stderr",
     "output_type": "stream",
     "text": [
      " 63%|██████▎   | 344/545 [2:14:36<2:32:53, 45.64s/it]"
     ]
    },
    {
     "name": "stdout",
     "output_type": "stream",
     "text": [
      "/rdfs/fast/home/sunyingge/data/COV_19/0508/TestSet/0519/normal_pneu_datasets/level1/normal/4ecb284956b8ba1cf487a1efaa0877fd\n",
      "0.23798134418905284\n"
     ]
    },
    {
     "name": "stderr",
     "output_type": "stream",
     "text": [
      " 63%|██████▎   | 346/545 [2:17:02<3:35:27, 64.96s/it]"
     ]
    },
    {
     "name": "stdout",
     "output_type": "stream",
     "text": [
      "/rdfs/fast/home/sunyingge/data/COV_19/0508/TestSet/0519/normal_pneu_datasets/level1/normal/50643f0a5bee2d7ba0c3f1881c2d734c\n",
      "0.2420556330178649\n"
     ]
    },
    {
     "name": "stderr",
     "output_type": "stream",
     "text": [
      " 64%|██████▍   | 349/545 [2:19:20<3:20:11, 61.28s/it]"
     ]
    },
    {
     "name": "stdout",
     "output_type": "stream",
     "text": [
      "/rdfs/fast/home/sunyingge/data/COV_19/0508/TestSet/0519/normal_pneu_datasets/level1/normal/531f1231623443c438d1ed4215d999ca\n",
      "0.22223354660333994\n"
     ]
    },
    {
     "name": "stderr",
     "output_type": "stream",
     "text": [
      " 65%|██████▍   | 354/545 [2:23:41<4:19:31, 81.52s/it]"
     ]
    },
    {
     "name": "stdout",
     "output_type": "stream",
     "text": [
      "/rdfs/fast/home/sunyingge/data/COV_19/0508/TestSet/0519/normal_pneu_datasets/level1/normal/61a825d149a39090173b5d41c4cf9be7\n",
      "0.14939790925137628\n"
     ]
    },
    {
     "name": "stderr",
     "output_type": "stream",
     "text": [
      " 65%|██████▌   | 356/545 [2:26:06<4:18:30, 82.07s/it]"
     ]
    },
    {
     "name": "stdout",
     "output_type": "stream",
     "text": [
      "/rdfs/fast/home/sunyingge/data/COV_19/0508/TestSet/0519/normal_pneu_datasets/level1/normal/633d3dbad515f98e72619586bf974d16\n",
      "0.19696126448134238\n"
     ]
    },
    {
     "name": "stderr",
     "output_type": "stream",
     "text": [
      " 66%|██████▌   | 360/545 [2:28:51<3:22:14, 65.59s/it]"
     ]
    },
    {
     "name": "stdout",
     "output_type": "stream",
     "text": [
      "/rdfs/fast/home/sunyingge/data/COV_19/0508/TestSet/0519/normal_pneu_datasets/level1/normal/6928c716afce7319ea67e523ca65e945\n",
      "0.23513864308589644\n"
     ]
    },
    {
     "name": "stderr",
     "output_type": "stream",
     "text": [
      " 68%|██████▊   | 369/545 [2:32:31<2:24:43, 49.34s/it]"
     ]
    },
    {
     "name": "stdout",
     "output_type": "stream",
     "text": [
      "/rdfs/fast/home/sunyingge/data/COV_19/0508/TestSet/0519/normal_pneu_datasets/level1/normal/75b9c68925928d680d7dd58a3d36289e\n",
      "0.2815362002305983\n"
     ]
    },
    {
     "name": "stderr",
     "output_type": "stream",
     "text": [
      " 69%|██████▉   | 378/545 [2:36:02<2:08:44, 46.25s/it]"
     ]
    },
    {
     "name": "stdout",
     "output_type": "stream",
     "text": [
      "/rdfs/fast/home/sunyingge/data/COV_19/0508/TestSet/0519/normal_pneu_datasets/level1/normal/88435d4b330c3bf8e5827911861181f9\n",
      "0.29113681386297996\n"
     ]
    },
    {
     "name": "stderr",
     "output_type": "stream",
     "text": [
      " 70%|███████   | 382/545 [2:39:05<2:48:13, 61.92s/it]"
     ]
    },
    {
     "name": "stdout",
     "output_type": "stream",
     "text": [
      "/rdfs/fast/home/sunyingge/data/COV_19/0508/TestSet/0519/normal_pneu_datasets/level1/normal/8ecd97a7a8f9c23da61ea8429ba7cabf\n",
      "0.11687679240525739\n"
     ]
    },
    {
     "name": "stderr",
     "output_type": "stream",
     "text": [
      " 72%|███████▏  | 390/545 [2:42:41<2:13:35, 51.71s/it]"
     ]
    },
    {
     "name": "stdout",
     "output_type": "stream",
     "text": [
      "/rdfs/fast/home/sunyingge/data/COV_19/0508/TestSet/0519/normal_pneu_datasets/level1/normal/98acc5394629f0b2dbf114b29a1a458a\n",
      "0.26006914823626986\n"
     ]
    },
    {
     "name": "stderr",
     "output_type": "stream",
     "text": [
      " 74%|███████▍  | 402/545 [2:45:12<40:22, 16.94s/it]  "
     ]
    },
    {
     "name": "stdout",
     "output_type": "stream",
     "text": [
      "/rdfs/fast/home/sunyingge/data/COV_19/0508/TestSet/0519/normal_pneu_datasets/level1/normal/aa1185e366d0b4017bb850fc115545d9\n",
      "0.24836962150207484\n"
     ]
    },
    {
     "name": "stderr",
     "output_type": "stream",
     "text": [
      " 74%|███████▍  | 404/545 [2:47:13<1:44:43, 44.57s/it]"
     ]
    },
    {
     "name": "stdout",
     "output_type": "stream",
     "text": [
      "/rdfs/fast/home/sunyingge/data/COV_19/0508/TestSet/0519/normal_pneu_datasets/level1/normal/ab988c3c8e0bd423ca7e21730153065f\n",
      "0.29982600888758415\n"
     ]
    },
    {
     "name": "stderr",
     "output_type": "stream",
     "text": [
      "\r",
      " 74%|███████▍  | 405/545 [2:49:12<2:35:33, 66.66s/it]"
     ]
    },
    {
     "name": "stdout",
     "output_type": "stream",
     "text": [
      "/rdfs/fast/home/sunyingge/data/COV_19/0508/TestSet/0519/normal_pneu_datasets/level1/normal/ad31e53a4f91c136d9224a6bb836f94f\n",
      "0.19654627664660496\n"
     ]
    },
    {
     "name": "stderr",
     "output_type": "stream",
     "text": [
      " 75%|███████▍  | 407/545 [2:51:31<2:48:35, 73.30s/it]"
     ]
    },
    {
     "name": "stdout",
     "output_type": "stream",
     "text": [
      "/rdfs/fast/home/sunyingge/data/COV_19/0508/TestSet/0519/normal_pneu_datasets/level1/normal/b2d6c9522f7f65ea4a4496f9a1b11dc4\n",
      "0.10009249797477764\n"
     ]
    },
    {
     "name": "stderr",
     "output_type": "stream",
     "text": [
      " 76%|███████▌  | 412/545 [2:54:34<2:14:34, 60.71s/it]"
     ]
    },
    {
     "name": "stdout",
     "output_type": "stream",
     "text": [
      "/rdfs/fast/home/sunyingge/data/COV_19/0508/TestSet/0519/normal_pneu_datasets/level1/normal/b7f6f35240fa65973fe4d39211ee53a2\n",
      "0.20793603986998474\n"
     ]
    },
    {
     "name": "stderr",
     "output_type": "stream",
     "text": [
      " 76%|███████▋  | 416/545 [2:58:28<2:52:53, 80.41s/it]"
     ]
    },
    {
     "name": "stdout",
     "output_type": "stream",
     "text": [
      "/rdfs/fast/home/sunyingge/data/COV_19/0508/TestSet/0519/normal_pneu_datasets/level1/normal/c0b6277f4a1bc894a4236c74a4f6b0b7\n",
      "0.27588847275445877\n"
     ]
    },
    {
     "name": "stderr",
     "output_type": "stream",
     "text": [
      " 77%|███████▋  | 421/545 [3:01:31<2:06:04, 61.01s/it]"
     ]
    },
    {
     "name": "stdout",
     "output_type": "stream",
     "text": [
      "/rdfs/fast/home/sunyingge/data/COV_19/0508/TestSet/0519/normal_pneu_datasets/level1/normal/c8c0b0efff80f2a96579674b2261b5f9\n",
      "0.21350268873595\n"
     ]
    },
    {
     "name": "stderr",
     "output_type": "stream",
     "text": [
      " 78%|███████▊  | 425/545 [3:06:27<3:16:32, 98.27s/it]"
     ]
    },
    {
     "name": "stdout",
     "output_type": "stream",
     "text": [
      "/rdfs/fast/home/sunyingge/data/COV_19/0508/TestSet/0519/normal_pneu_datasets/level1/normal/d011ad4b4253f08bea8787902db03fe2\n",
      "0.09709776652413633\n"
     ]
    },
    {
     "name": "stderr",
     "output_type": "stream",
     "text": [
      " 79%|███████▉  | 430/545 [3:09:14<1:54:36, 59.79s/it]"
     ]
    },
    {
     "name": "stdout",
     "output_type": "stream",
     "text": [
      "/rdfs/fast/home/sunyingge/data/COV_19/0508/TestSet/0519/normal_pneu_datasets/level1/normal/d84022d26031ad69cc43f529dc65a123\n",
      "0.2187960479813748\n"
     ]
    },
    {
     "name": "stderr",
     "output_type": "stream",
     "text": [
      " 81%|████████▏ | 444/545 [3:14:11<1:39:35, 59.16s/it]"
     ]
    },
    {
     "name": "stdout",
     "output_type": "stream",
     "text": [
      "/rdfs/fast/home/sunyingge/data/COV_19/0508/TestSet/0519/normal_pneu_datasets/level1/normal/f9b8c9a0b08b1751499179e3575295de\n",
      "0.24793745654800758\n"
     ]
    },
    {
     "name": "stderr",
     "output_type": "stream",
     "text": [
      "\r",
      " 82%|████████▏ | 445/545 [3:16:08<2:07:38, 76.59s/it]"
     ]
    },
    {
     "name": "stdout",
     "output_type": "stream",
     "text": [
      "/rdfs/fast/home/sunyingge/data/COV_19/0508/TestSet/0519/normal_pneu_datasets/level1/normal/fa895b4b397ce311deafd798d052f33c\n",
      "0.2678931359523622\n"
     ]
    },
    {
     "name": "stderr",
     "output_type": "stream",
     "text": [
      " 84%|████████▎ | 456/545 [3:20:11<1:12:47, 49.07s/it]"
     ]
    },
    {
     "name": "stdout",
     "output_type": "stream",
     "text": [
      "/rdfs/fast/home/sunyingge/data/COV_19/0508/TestSet/0519/normal_pneu_datasets/level3/normal/11e6d47dd9a641711cc1de4952e287e8\n",
      "0.2059291641193063\n"
     ]
    },
    {
     "name": "stderr",
     "output_type": "stream",
     "text": [
      " 84%|████████▍ | 458/545 [3:23:16<1:54:07, 78.71s/it]"
     ]
    },
    {
     "name": "stdout",
     "output_type": "stream",
     "text": [
      "/rdfs/fast/home/sunyingge/data/COV_19/0508/TestSet/0519/normal_pneu_datasets/level3/normal/14ca0b88e816a117e18c93e1ec9f2590\n",
      "0.12968537326503976\n"
     ]
    },
    {
     "name": "stderr",
     "output_type": "stream",
     "text": [
      " 87%|████████▋ | 472/545 [3:27:25<58:04, 47.74s/it]  "
     ]
    },
    {
     "name": "stdout",
     "output_type": "stream",
     "text": [
      "/rdfs/fast/home/sunyingge/data/COV_19/0508/TestSet/0519/normal_pneu_datasets/level3/normal/3680c1faa65f35708637880d4bc930d9\n",
      "0.09248230138517717\n"
     ]
    },
    {
     "name": "stderr",
     "output_type": "stream",
     "text": [
      "100%|██████████| 545/545 [3:39:31<00:00, 24.17s/it]"
     ]
    },
    {
     "name": "stdout",
     "output_type": "stream",
     "text": [
      "covid: 0.6832813963246189\n",
      "thick: 0.6646964454202049\n",
      "covid_thick: 0.687991566790197\n",
      "thin: 0.47084218657133575\n",
      "covid_thin: 0.6050201024350156\n",
      "normal: 0.4641220697682557\n",
      "normal_thick: 0.45504035309027574\n",
      "normal_thin: 0.464868512234939\n"
     ]
    },
    {
     "name": "stderr",
     "output_type": "stream",
     "text": [
      "\n"
     ]
    }
   ],
   "source": [
    "import argparse, logging, os, sys, time\n",
    "import cv2, pickle, shutil\n",
    "import matplotlib.pyplot as plt\n",
    "import numpy as np\n",
    "import SimpleITK as sitk\n",
    "import tensorflow as tf\n",
    "from collections import defaultdict\n",
    "from os.path import join as pj\n",
    "from tqdm import tqdm\n",
    "\n",
    "# When the TF module is large enough create a seperate folder for it\n",
    "# TODO: Change working directory to point to folder of this script\n",
    "sys.path.insert(0, \"../../..\") \n",
    "# from fast.cf_mod.misc.data_tools import BaseDataset, paths_for_dataset\n",
    "from fast.cf_mod.misc.data_tools import BaseDataset\n",
    "from fast.cf_mod.misc.utils import get_infos\n",
    "from fast.cf_mod.misc.my_metrics import dice_coef_pat\n",
    "# TODO: unify the process of building models\n",
    "from fw_dependent.tf.model.tf_layers import tf_model\n",
    "from fw_neutral.utils.config import Config\n",
    "from fw_neutral.utils.data_proc import paths_from_data, im_normalize, preprocess\n",
    "from fw_neutral.utils.viz import viz_patient\n",
    "\n",
    "def parse_args():\n",
    "    parser = argparse.ArgumentParser(\n",
    "        \"\"\"\n",
    "        You need to be careful with resuming while also changing the batch size \n",
    "        with this script since it would change how many steps to take to drop LR.\n",
    "        \n",
    "        \"eval\" mode: \n",
    "            \"--model_file\": Checkpoint file.\n",
    "            \"--testset_dir\"\n",
    "            \"--pkl_dir\": Output.\n",
    "        \"\"\")\n",
    "    parser.add_argument(\"mode\", choices=[\"train\", \"eval\"])\n",
    "    parser.add_argument(\"config\", help=\"Config file.\")\n",
    "    parser.add_argument(\"--gpu\", help=\"Choose GPU.\")\n",
    "    parser.add_argument(\"--gpus_to_use\", nargs='+')\n",
    "    \n",
    "    # Training mode related\n",
    "    parser.add_argument(\"-o\", \"--output_dir\",\n",
    "        help=\"\"\"You only need to provide a prefix which will be automatically be \n",
    "            complemented by time to keep things distincive easily. This will be ignored\n",
    "            when resuming from a checkpoint.\"\"\",\n",
    "        default=\"/rdfs/fast/home/sunyingge/data/models/workdir_0522/SEResUNET_\")\n",
    "    parser.add_argument(\"--train_dir\", help=\"Training set directory.\",\n",
    "        default=\"/rdfs/fast/home/sunyingge/data/COV_19/prced_0512/Train_0519/\",\n",
    "        # default=\"/rdfs/fast/home/sunyingge/data/COV_19/prced_0512/Train_0526/\",\n",
    "        )\n",
    "    parser.add_argument(\"--batch_size\", type=int,\n",
    "        help=\"Provided here to enable easy overwritting (particularly useful for evaluation).\")\n",
    "    parser.add_argument(\"--resume\", help=\"Checkpoint file to resume from.\",\n",
    "        # default=\"/rdfs/fast/home/sunyingge/data/models/workdir_0522/SEResUNet_0526_01/epoch_3.ckpt\"\n",
    "        )\n",
    "    parser.add_argument(\"--max_to_keep\", default=30, help=\"Max number of checkpoint files to keep.\")\n",
    "    parser.add_argument(\"--num_retry\", default=60)\n",
    "    parser.add_argument(\"--retry_waittime\", default=120, help=\"In seconds.\")\n",
    "    parser.add_argument(\"--eval_while_train\", action=\"store_true\", default=True,\n",
    "        help=\"\"\"Need to provide \"--testset_dir\" for this.\"\"\")\n",
    "\n",
    "    # Eval mode related\n",
    "    parser.add_argument(\"--testset_dir\", nargs='+',\n",
    "        default=[\"/rdfs/fast/home/sunyingge/data/COV_19/0508/TestSet/0519/normal_pneu_datasets\",\n",
    "        \"/rdfs/fast/home/sunyingge/data/COV_19/0508/TestSet/0519/covid_pneu_datasets\"]\n",
    "        )\n",
    "    parser.add_argument(\"--model_file\",\n",
    "        # default=\"/rdfs/fast/home/sunyingge/data/models/workdir_0522/SEResUNET_0525_2051_19/epoch_9.ckpt\"\n",
    "        # default=\"/rdfs/fast/home/sunyingge/data/models/workdir_0522/SEResUNet_0526_01/epoch_3.ckpt\"\n",
    "        default=\"/rdfs/fast/home/sunyingge/data/models/workdir_0522/SEResUNET_0528_1357_35/epoch_12.ckpt\"\n",
    "        )\n",
    "    parser.add_argument(\"--pkl_dir\",\n",
    "        # default=\"/rdfs/fast/home/sunyingge/data/models/workdir_0522/SEResUNET_0525_2051_19/epoch_9_res.pkl\",\n",
    "        # default=\"/rdfs/fast/home/sunyingge/data/models/workdir_0522/SEResUNet_0526_01/epoch_3_res.pkl\"\n",
    "        default=\"/rdfs/fast/home/sunyingge/data/models/workdir_0522/SEResUNET_0528_1357_35/epoch_12_res.pkl\"\n",
    "        )\n",
    "    parser.add_argument(\"--thickness_thres\", default=3.0)\n",
    "    parser.add_argument(\"--viz\", help=\"Middle name of the visualization output directory.\")\n",
    "\n",
    "    parser.add_argument(\"--debug\", action=\"store_true\")\n",
    "\n",
    "#     return parser.parse_args()\n",
    "    # So that this works with jupyter\n",
    "    return parser.parse_args(args=[\n",
    "        \"eval\",\n",
    "        \"/rdfs/fast/home/sunyingge/data/models/workdir_0522/SEResUNET_0528_1357_35/cfg.json\",\n",
    "        \"--gpu\",\n",
    "        \"2\",\n",
    "        \"--batch_size\",\n",
    "        \"24\",\n",
    "        \"--viz\",\n",
    "        \"viz_0530_01\"\n",
    "    ])\n",
    "\n",
    "def ini_training_set(args, cfg):\n",
    "    print(\"==>>Training set: \")\n",
    "    # _, train_pos, _ = paths_for_dataset(args.train_dir,\n",
    "    #     flags=[\"train\"],\n",
    "    #     seed=999,\n",
    "    #     isprint=True)\n",
    "    train_paths  = paths_from_data(args.train_dir)\n",
    "    np.random.seed(999)\n",
    "    train_paths = np.random.permutation(train_paths).tolist()\n",
    "    print(\"++\"*30)\n",
    "    print(f\"Number of training samples: {len(train_paths)}\")\n",
    "    train_dataset = BaseDataset(train_paths, [], img_size=cfg.im_size, choice=\"all\",\n",
    "        image_key=\"im\", mask_key=\"mask\")\n",
    "    print(f\"train_dataset: {len(train_dataset)}\")\n",
    "    return train_dataset\n",
    "\n",
    "def train(sess, args, cfg):\n",
    "    train_dataset = ini_training_set(args, cfg)\n",
    "    num_batches = len(train_dataset) // cfg.batch_size\n",
    "    model = tf_model(args, cfg, args.gpus_to_use, num_batches)\n",
    "    if args.resume:\n",
    "        output_dir = os.path.dirname(args.resume)\n",
    "    else:\n",
    "        if os.path.exists(args.output_dir):\n",
    "            output_dir = args.output_dir\n",
    "        else:\n",
    "            output_dir = args.output_dir + time.strftime(\"%m%d_%H%M_%S\", time.localtime())\n",
    "        if os.path.exists(output_dir):\n",
    "            if not args.debug:\n",
    "                input(\"The output directory already exists, please wait a moment and restart...\")\n",
    "                # print(\"The output directory already exists, please wait a moment and restart...\")\n",
    "                # sys.exit()\n",
    "        else:\n",
    "            os.makedirs(output_dir)\n",
    "        if not os.path.exists(pj(output_dir, os.path.basename(args.config))):\n",
    "            shutil.copy(args.config, output_dir)\n",
    "    logging.basicConfig(level=logging.DEBUG,\n",
    "        format=\"%(asctime)s %(message)s\",\n",
    "        datefmt=\"%m-%d %H:%M\",\n",
    "        filename=pj(output_dir, \"training.log\"),\n",
    "        filemode=\"a\")\n",
    "    console = logging.StreamHandler()\n",
    "    console.setLevel(logging.INFO)\n",
    "    console.setFormatter(logging.Formatter(\"%(message)s\"))\n",
    "    logging.getLogger(\"\").addHandler(console)\n",
    "    saver = tf.train.Saver(max_to_keep=args.max_to_keep)\n",
    "    num_para = np.sum([np.prod(v.get_shape().as_list()) for v in tf.trainable_variables()])\n",
    "    logging.info(\"Total number of trainable parameters: {:.3}M.\\n\".format(float(num_para)/1e6))\n",
    "    if args.resume:\n",
    "        saver.restore(sess, args.resume)\n",
    "        # This needs to be changed if the naming rule changes\n",
    "        epoch = int((os.path.basename(args.resume).split('.')[0]).split('_')[-1])\n",
    "    else:\n",
    "        sess.run(tf.global_variables_initializer())\n",
    "        epoch = 0\n",
    "    while epoch < cfg.max_epoch:\n",
    "        logging.info(f\"Epoch {epoch + 1}\\n\")\n",
    "        num_batches = 10 if args.debug else num_batches\n",
    "        with tf.contrib.tfprof.ProfileContext(\"\", trace_steps=[], dump_steps=[]) as pctx:\n",
    "            for i in range(num_batches):\n",
    "                data_list = []\n",
    "                for j in range(i * cfg.batch_size, (i + 1) * cfg.batch_size):\n",
    "                    # Careful with a batch size that can't be divided evenly bt the number of gpus\n",
    "                    # when at the end during a multi-GPU training\n",
    "                    im_ar, ann_ar = preprocess(train_dataset[j][0], train_dataset[j][1], cfg, True)\n",
    "                    data_list.append((im_ar, ann_ar))\n",
    "                data_ar = np.array(data_list)\n",
    "                im_ar = data_ar[:,0,:,:,:]\n",
    "                if cfg.num_class == 1:\n",
    "                    # to make it compatible with mutlicls label\n",
    "                    ann_ar = data_ar[:,1,:,:,:] > 0 \n",
    "                elif cfg.loss == \"softmax\":\n",
    "                    ann_ar = data_ar[:,1,:,:,0]\n",
    "                elif cfg.loss == \"sigmoid\":\n",
    "                    ann_ar = np.repeat(data_ar[:,1,:,:,:], cfg.num_class + 1, -1)\n",
    "                    all_cls_ids = np.ones(shape=ann_ar.shape)\n",
    "                    for i in range(cfg.num_class + 1):\n",
    "                        all_cls_ids[...,i] = all_cls_ids[...,i] * i\n",
    "                    ann_ar = ann_ar == all_cls_ids\n",
    "                ret_loss, _ = sess.run([model.loss, model.opt_op],\n",
    "                    feed_dict={model.input_im: im_ar, model.input_ann: ann_ar,})\n",
    "                # if i % 5 == 0:\n",
    "                logging.info(f\"Epoch progress: {i + 1} / {num_batches}, loss: {ret_loss}\")\n",
    "        for _ in range(args.num_retry):\n",
    "            try:\n",
    "                ckpt_dir = pj(output_dir, f\"epoch_{epoch + 1}.ckpt\")\n",
    "                saver.save(sess, ckpt_dir)\n",
    "                # a = np.random.uniform(size=1)#\n",
    "                # if a[0] < 0.9:#\n",
    "                #     raise Exception(\"Hi!\")#\n",
    "                break\n",
    "            except:\n",
    "                logging.warning(\"Failed to save checkpoint. Retry after 2 minutes...\")\n",
    "                time.sleep(args.retry_waittime)\n",
    "                # time.sleep(10)#\n",
    "        if args.eval_while_train and not args.gpus_to_use:\n",
    "            evaluation(sess, args, cfg, model, ckpt_dir.replace(\".ckpt\", \"_res.pkl\"), log=True)\n",
    "        epoch += 1\n",
    "\n",
    "def show_dice(all_res, log=False):\n",
    "    stats = defaultdict(list)\n",
    "    for res in all_res:\n",
    "        if 'covid_pneu_datasets' in res[0]:\n",
    "            if res[2] >= args.thickness_thres:\n",
    "                stats['covid'].append(res[1])\n",
    "                stats['thick'].append(res[1])\n",
    "                stats['covid_thick'].append(res[1])\n",
    "            elif res[2] < args.thickness_thres:\n",
    "                stats['covid'].append(res[1])\n",
    "                stats['thin'].append(res[1])\n",
    "                stats['covid_thin'].append(res[1])\n",
    "        elif 'normal_pneu_datasets' in res[0]:\n",
    "            if res[2] >= args.thickness_thres:\n",
    "                stats['normal'].append(res[1])\n",
    "                stats['thick'].append(res[1])\n",
    "                stats['normal_thick'].append(res[1])\n",
    "            elif res[2] < args.thickness_thres:\n",
    "                stats['normal'].append(res[1])\n",
    "                stats['thin'].append(res[1])\n",
    "                stats['normal_thin'].append(res[1])\n",
    "    for key in stats:\n",
    "        if log:\n",
    "            logging.info(f\"{key}: {np.mean(np.array(stats[key]))}\")\n",
    "        else:\n",
    "            print(f\"{key}: {np.mean(np.array(stats[key]))}\")\n",
    "\n",
    "def evaluation(sess, args, cfg, model=None, pkl_dir=None, log=False):\n",
    "    \"\"\"\n",
    "        Args:\n",
    "            model: For eval during training.\n",
    "    \"\"\"\n",
    "    info_paths = []\n",
    "    for folder in args.testset_dir:\n",
    "        info_paths += get_infos(folder)\n",
    "    info_paths = sorted(info_paths, key=lambda info:info[0])\n",
    "    all_result = []\n",
    "    if not model:\n",
    "        model = tf_model(args, cfg)\n",
    "        saver = tf.train.Saver()\n",
    "        saver.restore(sess, args.model_file)\n",
    "    else:\n",
    "        args.pkl_dir = pkl_dir\n",
    "    pbar = tqdm(total=len(info_paths))\n",
    "    if os.path.exists(args.pkl_dir):\n",
    "        input(\"Result file already exists. Press enter to \\\n",
    "            continue and overwrite it when inference is done...\")\n",
    "    for num, info in enumerate(info_paths):\n",
    "        img_file, lab_file = info[0:2]\n",
    "        try:\n",
    "            img_ori,  lab_ori  = sitk.ReadImage(img_file, sitk.sitkFloat32), sitk.ReadImage(lab_file, sitk.sitkInt16)\n",
    "            img_arr,  lab_arr  = sitk.GetArrayFromImage(img_ori), sitk.GetArrayFromImage(lab_ori)\n",
    "            # This converts all positive pixels to 1 regardless of their exact class\n",
    "            lab_arr  = np.asarray(lab_arr > 0, dtype=np.uint8)\n",
    "        except:\n",
    "            continue\n",
    "        depth, ori_shape = img_arr.shape[0], img_arr.shape[1:]\n",
    "        spacing = img_ori.GetSpacing()\n",
    "        img_arr_normed = im_normalize(img_arr, cfg.eval[\"ct_interval\"][0], cfg.eval[\"ct_interval\"][1], \n",
    "            cfg.eval[\"norm_by_interval\"])\n",
    "        # dis_arr = resize3d(dis_arr, cfg.im_size, interpolation=cv2.INTER_LINEAR)\n",
    "        im_stack = []\n",
    "        topleft_list = [] if cfg.preprocess[\"cropping\"] else None\n",
    "        for i in range(img_arr_normed.shape[0]):\n",
    "            res = preprocess(img_arr_normed[i,...], None, cfg, False)\n",
    "            if cfg.preprocess[\"cropping\"]:\n",
    "                im_stack.append(res[0])\n",
    "                topleft_list.append(res[1])\n",
    "            elif cfg.preprocess[\"resize\"]:\n",
    "                im_stack.append(res)\n",
    "        dis_arr = np.array(im_stack)\n",
    "        \n",
    "        pred_ = []\n",
    "        segs = cfg.batch_size\n",
    "        assert isinstance(segs, int) and (segs>0) & (segs<70), \"Please\" \n",
    "        step = depth//segs + 1 if depth%segs != 0 else depth//segs\n",
    "        for ii in range(step):\n",
    "            if ii != step-1:\n",
    "                pp = sess.run(model.pred, feed_dict={model.input_im: dis_arr[ii*segs:(ii+1)*segs, ...]}) #[0]\n",
    "            else:\n",
    "                pp = sess.run(model.pred, feed_dict={model.input_im: dis_arr[ii*segs:, ...]}) #[0]\n",
    "            pp = 1/ (1 + np.exp(-pp)) # this only works for single class\n",
    "            pred_.append(pp)\n",
    "        dis_prd = np.concatenate(pred_, axis=0)\n",
    "        # add the og version in\n",
    "        if cfg.num_class == 1:\n",
    "            dis_prd = dis_prd > 0.5\n",
    "        else:\n",
    "            if \"normal_pneu\" in img_file:\n",
    "                cls_id = 2\n",
    "            elif \"covid_pneu\" in img_file:\n",
    "                cls_id = 1\n",
    "            dis_prd = np.argmax(dis_prd, -1) == cls_id\n",
    "        # dis_prd = resize3d(dis_prd.astype(np.uint8), ori_shape, interpolation=cv2.INTER_NEAREST)\n",
    "        # insert postprocessing here\n",
    "        # dis_prd = np.array([postprocess(dis_prd[i,...], cfg, topleft_list) for i in range(dis_prd.shape[0])])\n",
    "        pred_stack = []\n",
    "        for i in range(dis_prd.shape[0]):\n",
    "            if cfg.preprocess[\"cropping\"]:\n",
    "                padded_res = np.zeros(shape=ori_shape[::-1])\n",
    "                padded_res[topleft_list[i][1]:topleft_list[i][1] + cfg.im_size[0],topleft_list[i][0]:topleft_list[i][0] + cfg.im_size[1]] = dis_prd[i,:,:,0]\n",
    "                pred_stack.append(padded_res)\n",
    "            elif cfg.preprocess[\"resize\"]:\n",
    "                pred_stack.append(cv2.resize(dis_prd[i,:,:,0].astype(np.float32), ori_shape[::-1], interpolation=cv2.INTER_NEAREST))\n",
    "        dis_prd = np.array(pred_stack)\n",
    "        score = dice_coef_pat(dis_prd, lab_arr)\n",
    "        if score < 0.3:\n",
    "            if args.viz:\n",
    "                viz_patient(img_arr_normed, dis_prd, lab_arr, \n",
    "                    pj(os.path.dirname(args.model_file), args.viz), img_file)\n",
    "            if log:\n",
    "                logging.info(os.path.dirname(lab_file))\n",
    "                logging.info(score)\n",
    "            else:\n",
    "                print(os.path.dirname(lab_file))\n",
    "                print(score)\n",
    "        all_result.append([img_file, score, round(spacing[-1], 1)])\n",
    "        pbar.update(1)\n",
    "    pbar.close()\n",
    "    pickle.dump(all_result, open(args.pkl_dir, \"bw\"))\n",
    "    show_dice(all_result, log=log)\n",
    "\n",
    "if __name__ == \"__main__\":\n",
    "    args = parse_args()\n",
    "    os.environ[\"CUDA_VISIBLE_DEVICES\"] = args.gpu if args.gpu else \",\".join(args.gpus_to_use)\n",
    "    cfg = Config()\n",
    "    cfg.load_from_json(args.config)\n",
    "    if args.batch_size:\n",
    "        cfg.batch_size = args.batch_size\n",
    "    config = tf.ConfigProto(allow_soft_placement=True)\n",
    "    config.gpu_options.allow_growth = True\n",
    "    config.gpu_options.per_process_gpu_memory_fraction = 0.95\n",
    "    sess = tf.Session(config=config)\n",
    "\n",
    "    if args.mode == \"train\":\n",
    "        train(sess, args, cfg)\n",
    "    elif args.mode == \"eval\":\n",
    "        evaluation(sess, args, cfg)"
   ]
  },
  {
   "cell_type": "code",
   "execution_count": null,
   "metadata": {},
   "outputs": [],
   "source": []
  }
 ],
 "metadata": {
  "kernelspec": {
   "display_name": "Python 3",
   "language": "python",
   "name": "python3"
  },
  "language_info": {
   "codemirror_mode": {
    "name": "ipython",
    "version": 3
   },
   "file_extension": ".py",
   "mimetype": "text/x-python",
   "name": "python",
   "nbconvert_exporter": "python",
   "pygments_lexer": "ipython3",
   "version": "3.6.4"
  }
 },
 "nbformat": 4,
 "nbformat_minor": 2
}
